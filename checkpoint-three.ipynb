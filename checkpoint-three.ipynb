{
    "cells": [
        {
            "attachments": {},
            "cell_type": "markdown",
            "metadata": {
                "azdata_cell_guid": "26037d32-2047-4157-81ef-595916bd66a0"
            },
            "source": [
                "# Checkpoint Three: Cleaning Data\n",
                "\n",
                "Now you are ready to clean your data. Before starting coding, provide the link to your dataset below.\n",
                "\n",
                "My dataset: https://www.kaggle.com/datasets/rtatman/lego-database/data\n",
                "\n",
                "\n",
                "Import the necessary libraries and create your dataframe(s)."
            ]
        },
        {
            "cell_type": "code",
            "execution_count": 60,
            "metadata": {
                "azdata_cell_guid": "e8adef8e-d0f2-4640-a179-5997f11e82ca"
            },
            "outputs": [],
            "source": [
                "import pandas as pd\n",
                "\n",
                "# read the files into dataframes\n",
                "colors_df=pd.read_csv(\"C:\\\\LaunchCode\\\\eda-checkpoint2\\\\colors.csv\")\n",
                "inventories_df=pd.read_csv(\"C:\\\\LaunchCode\\\\eda-checkpoint2\\\\inventories.csv\")\n",
                "inv_parts_df=pd.read_csv(\"C:\\\\LaunchCode\\\\eda-checkpoint2\\\\inventory_parts.csv\")\n",
                "# inv_sets_df=pd.read_csv(\"C:\\\\LaunchCode\\\\eda-checkpoint2\\\\inventory_sets.csv\")\n",
                "parts_cat_df=pd.read_csv(\"C:\\\\LaunchCode\\\\eda-checkpoint2\\\\part_categories.csv\")\n",
                "parts_df=pd.read_csv(\"C:\\\\LaunchCode\\\\eda-checkpoint2\\\\parts.csv\")\n",
                "sets_df=pd.read_csv(\"C:\\\\LaunchCode\\\\eda-checkpoint2\\\\sets.csv\")\n",
                "themes_df=pd.read_csv('C:\\\\LaunchCode\\\\eda-checkpoint2\\\\themes.csv')\n"
            ]
        },
        {
            "cell_type": "markdown",
            "metadata": {
                "azdata_cell_guid": "e172475a-c4ee-414a-8367-9965355dbba6"
            },
            "source": [
                "## Missing Data\n",
                "\n",
                "Test your dataset for missing data and handle it as needed. Make notes in the form of code comments as to your thought process."
            ]
        },
        {
            "cell_type": "code",
            "execution_count": 16,
            "metadata": {
                "azdata_cell_guid": "e1dc66ef-e471-4c27-92e7-ee878c106eba"
            },
            "outputs": [
                {
                    "data": {
                        "text/plain": [
                            "id         0\n",
                            "version    0\n",
                            "set_num    0\n",
                            "dtype: int64"
                        ]
                    },
                    "execution_count": 16,
                    "metadata": {},
                    "output_type": "execute_result"
                }
            ],
            "source": [
                "colors_df.isnull().sum() #no missing data found\n",
                "inventories_df.isnull().sum() # no missing data found\n",
                "inv_parts_df.isnull().sum() # no missing data found\n",
                "parts_df.isnull().sum() # no missing data found\n",
                "parts_cat_df.isnull().sum() # no missing data found\n",
                "sets_df.isnull().sum() # no missing data found\n",
                "themes_df.isnull().sum() # parent_id contains missing nulls. these are the top themes in the hierachy so nulls are expected"
            ]
        },
        {
            "cell_type": "markdown",
            "metadata": {
                "azdata_cell_guid": "1233f543-e9a0-4f78-96f5-d7536554102e"
            },
            "source": [
                "## Irregular Data\n",
                "\n",
                "Detect outliers in your dataset and handle them as needed. Use code comments to make notes about your thought process."
            ]
        },
        {
            "cell_type": "code",
            "execution_count": 57,
            "metadata": {
                "azdata_cell_guid": "efed50ae-16f0-471d-98e2-632553a74c12"
            },
            "outputs": [
                {
                    "data": {
                        "text/plain": [
                            "np.int64(0)"
                        ]
                    },
                    "metadata": {},
                    "output_type": "display_data"
                },
                {
                    "data": {
                        "text/html": [
                            "<div>\n",
                            "<style scoped>\n",
                            "    .dataframe tbody tr th:only-of-type {\n",
                            "        vertical-align: middle;\n",
                            "    }\n",
                            "\n",
                            "    .dataframe tbody tr th {\n",
                            "        vertical-align: top;\n",
                            "    }\n",
                            "\n",
                            "    .dataframe thead th {\n",
                            "        text-align: right;\n",
                            "    }\n",
                            "</style>\n",
                            "<table border=\"1\" class=\"dataframe\">\n",
                            "  <thead>\n",
                            "    <tr style=\"text-align: right;\">\n",
                            "      <th></th>\n",
                            "      <th>set_num</th>\n",
                            "      <th>name</th>\n",
                            "      <th>year</th>\n",
                            "      <th>theme_id</th>\n",
                            "      <th>num_parts</th>\n",
                            "    </tr>\n",
                            "  </thead>\n",
                            "  <tbody>\n",
                            "  </tbody>\n",
                            "</table>\n",
                            "</div>"
                        ],
                        "text/plain": [
                            "Empty DataFrame\n",
                            "Columns: [set_num, name, year, theme_id, num_parts]\n",
                            "Index: []"
                        ]
                    },
                    "metadata": {},
                    "output_type": "display_data"
                },
                {
                    "data": {
                        "text/html": [
                            "<div>\n",
                            "<style scoped>\n",
                            "    .dataframe tbody tr th:only-of-type {\n",
                            "        vertical-align: middle;\n",
                            "    }\n",
                            "\n",
                            "    .dataframe tbody tr th {\n",
                            "        vertical-align: top;\n",
                            "    }\n",
                            "\n",
                            "    .dataframe thead th {\n",
                            "        text-align: right;\n",
                            "    }\n",
                            "</style>\n",
                            "<table border=\"1\" class=\"dataframe\">\n",
                            "  <thead>\n",
                            "    <tr style=\"text-align: right;\">\n",
                            "      <th></th>\n",
                            "      <th>set_num</th>\n",
                            "      <th>name</th>\n",
                            "      <th>year</th>\n",
                            "      <th>theme_id</th>\n",
                            "      <th>num_parts</th>\n",
                            "    </tr>\n",
                            "  </thead>\n",
                            "  <tbody>\n",
                            "    <tr>\n",
                            "      <th>353</th>\n",
                            "      <td>10623-1</td>\n",
                            "      <td>Basic Bricks – Large</td>\n",
                            "      <td>2015</td>\n",
                            "      <td>505</td>\n",
                            "      <td>0</td>\n",
                            "    </tr>\n",
                            "    <tr>\n",
                            "      <th>355</th>\n",
                            "      <td>1064-1</td>\n",
                            "      <td>Dacta Buildings</td>\n",
                            "      <td>1981</td>\n",
                            "      <td>533</td>\n",
                            "      <td>0</td>\n",
                            "    </tr>\n",
                            "    <tr>\n",
                            "      <th>613</th>\n",
                            "      <td>11995-1</td>\n",
                            "      <td>Hero Recon Team</td>\n",
                            "      <td>2011</td>\n",
                            "      <td>400</td>\n",
                            "      <td>0</td>\n",
                            "    </tr>\n",
                            "    <tr>\n",
                            "      <th>900</th>\n",
                            "      <td>14-3</td>\n",
                            "      <td>Small house set</td>\n",
                            "      <td>1973</td>\n",
                            "      <td>433</td>\n",
                            "      <td>0</td>\n",
                            "    </tr>\n",
                            "    <tr>\n",
                            "      <th>1367</th>\n",
                            "      <td>200-2</td>\n",
                            "      <td>Building Ideas Book</td>\n",
                            "      <td>1985</td>\n",
                            "      <td>501</td>\n",
                            "      <td>0</td>\n",
                            "    </tr>\n",
                            "    <tr>\n",
                            "      <th>...</th>\n",
                            "      <td>...</td>\n",
                            "      <td>...</td>\n",
                            "      <td>...</td>\n",
                            "      <td>...</td>\n",
                            "      <td>...</td>\n",
                            "    </tr>\n",
                            "    <tr>\n",
                            "      <th>11575</th>\n",
                            "      <td>PS3038-1</td>\n",
                            "      <td>LEGO Star Wars: The Complete Saga</td>\n",
                            "      <td>2007</td>\n",
                            "      <td>501</td>\n",
                            "      <td>0</td>\n",
                            "    </tr>\n",
                            "    <tr>\n",
                            "      <th>11612</th>\n",
                            "      <td>SWDVDBD-1</td>\n",
                            "      <td>The Padawan Menace</td>\n",
                            "      <td>2011</td>\n",
                            "      <td>501</td>\n",
                            "      <td>0</td>\n",
                            "    </tr>\n",
                            "    <tr>\n",
                            "      <th>11655</th>\n",
                            "      <td>VP-17</td>\n",
                            "      <td>Legoland Town Special Offer</td>\n",
                            "      <td>1985</td>\n",
                            "      <td>67</td>\n",
                            "      <td>0</td>\n",
                            "    </tr>\n",
                            "    <tr>\n",
                            "      <th>11665</th>\n",
                            "      <td>W098-1</td>\n",
                            "      <td>Watch Set, Classic Blue</td>\n",
                            "      <td>2006</td>\n",
                            "      <td>501</td>\n",
                            "      <td>0</td>\n",
                            "    </tr>\n",
                            "    <tr>\n",
                            "      <th>11666</th>\n",
                            "      <td>W991526-1</td>\n",
                            "      <td>Homeschool Introduction to Simple and Motorize...</td>\n",
                            "      <td>2009</td>\n",
                            "      <td>529</td>\n",
                            "      <td>0</td>\n",
                            "    </tr>\n",
                            "  </tbody>\n",
                            "</table>\n",
                            "<p>473 rows × 5 columns</p>\n",
                            "</div>"
                        ],
                        "text/plain": [
                            "         set_num                                               name  year  \\\n",
                            "353      10623-1                               Basic Bricks – Large  2015   \n",
                            "355       1064-1                                    Dacta Buildings  1981   \n",
                            "613      11995-1                                    Hero Recon Team  2011   \n",
                            "900         14-3                                    Small house set  1973   \n",
                            "1367       200-2                                Building Ideas Book  1985   \n",
                            "...          ...                                                ...   ...   \n",
                            "11575   PS3038-1                  LEGO Star Wars: The Complete Saga  2007   \n",
                            "11612  SWDVDBD-1                                 The Padawan Menace  2011   \n",
                            "11655      VP-17                        Legoland Town Special Offer  1985   \n",
                            "11665     W098-1                            Watch Set, Classic Blue  2006   \n",
                            "11666  W991526-1  Homeschool Introduction to Simple and Motorize...  2009   \n",
                            "\n",
                            "       theme_id  num_parts  \n",
                            "353         505          0  \n",
                            "355         533          0  \n",
                            "613         400          0  \n",
                            "900         433          0  \n",
                            "1367        501          0  \n",
                            "...         ...        ...  \n",
                            "11575       501          0  \n",
                            "11612       501          0  \n",
                            "11655        67          0  \n",
                            "11665       501          0  \n",
                            "11666       529          0  \n",
                            "\n",
                            "[473 rows x 5 columns]"
                        ]
                    },
                    "metadata": {},
                    "output_type": "display_data"
                },
                {
                    "data": {
                        "text/plain": [
                            "array([   69,   122,   164,   165,   170,   253,   275,   285,   398,\n",
                            "         415,   429,   515,   534,   629,   631,   696,   699,   793,\n",
                            "         819,   830,   919,   943,  1014,  1061,  1065,  1069,  1092,\n",
                            "        1135,  1139,  1190,  1201,  1205,  1317,  1352,  1401,  1418,\n",
                            "        1443,  1459,  1507,  1615,  1643,  1732,  1781,  1815,  1851,\n",
                            "        1878,  1892,  1959,  1967,  2006,  2014,  2054,  2063,  2186,\n",
                            "        2235,  2269,  2270,  2298,  2303,  2446,  2482,  2503,  2541,\n",
                            "        2560,  2616,  2677,  2720,  2767,  2835,  2858,  2907,  2930,\n",
                            "        2951,  2974,  3053,  3065,  3085,  3108,  3109,  3125,  3221,\n",
                            "        3294,  3313,  3349,  3419,  3441,  3475,  3513,  3545,  3570,\n",
                            "        3611,  3674,  3694,  3703,  3748,  3764,  3791,  3867,  3875,\n",
                            "        3880,  3906,  3907,  3959,  3983,  4032,  4036,  4037,  4064,\n",
                            "        4071,  4096,  4166,  4171,  4182,  4187,  4245,  4261,  4312,\n",
                            "        4373,  4397,  4429,  4430,  4528,  4655,  4783,  4807,  4875,\n",
                            "        4878,  4969,  5110,  5123,  5131,  5195,  5197,  5223,  5257,\n",
                            "        5305,  5348,  5388,  5447,  5456,  5460,  5487,  5491,  5508,\n",
                            "        5518,  5524,  5541,  5573,  5590,  5647,  5725,  5736,  5815,\n",
                            "        5847,  5857,  5915,  5944,  5979,  6021,  6079,  6128,  6179,\n",
                            "        6205,  6217,  6248,  6282,  6384,  6386,  6443,  6469,  6487,\n",
                            "        6532,  6556,  6626,  6637,  6691,  6714,  6734,  6756,  6789,\n",
                            "        6822,  6842,  6849,  6977,  7008,  7025,  7127,  7146,  7148,\n",
                            "        7151,  7185,  7191,  7230,  7233,  7278,  7281,  7329,  7367,\n",
                            "        7368,  7384,  7385,  7390,  7400,  7481,  7483,  7487,  7516,\n",
                            "        7532,  7565,  7596,  7614,  7651,  7674,  7733,  7775,  7815,\n",
                            "        7816,  7834,  7837,  7890,  7912,  8000,  8088,  8102,  8124,\n",
                            "        8130,  8176,  8230,  8287,  8303,  8334,  8338,  8446,  8466,\n",
                            "        8537,  8554,  8558,  8563,  8567,  8580,  8608,  8612,  8617,\n",
                            "        8678,  8684,  8762,  8771,  8781,  8812,  8814,  8837,  8859,\n",
                            "        8875,  8888,  8895,  8944,  8968,  8979,  8995,  9000,  9154,\n",
                            "        9178,  9186,  9199,  9352,  9411,  9472,  9564,  9602,  9624,\n",
                            "        9632,  9643,  9695,  9701,  9728,  9737,  9777,  9785,  9801,\n",
                            "        9807,  9833,  9991, 10013, 10028, 10043, 10091, 10124, 10212,\n",
                            "       10223, 10225, 10252, 10457, 10496, 10511, 10539, 10542, 10572,\n",
                            "       10575, 10620, 10678, 10760, 10781, 10829, 10830, 10834, 10884,\n",
                            "       10888, 10895, 10900, 10944, 10952, 10962, 10972, 11017, 11083,\n",
                            "       11219, 11237, 11255, 11282, 11309, 11315, 11321, 11325, 11330,\n",
                            "       11384, 11388, 11457, 11469, 11522, 11527, 11537, 11565, 11666,\n",
                            "       11677, 11686, 11701, 11810, 11821, 11841, 11861, 11886, 11932,\n",
                            "       11955, 11991, 12044, 12050, 12129, 12138, 12185, 12198, 12216,\n",
                            "       12478, 12494, 12520, 12542, 12559, 12571, 12624, 12637, 12700,\n",
                            "       12727, 12789, 12927, 12985, 12987, 12997, 13026, 13032, 13084,\n",
                            "       13132, 13134, 13145, 13148, 13152, 13153, 13159, 13161, 13164,\n",
                            "       13188, 13200, 13224, 13233, 13262, 13305, 13326, 13334, 13355,\n",
                            "       13366, 13381, 13398, 13485, 13503, 13521, 13681, 13683, 13696,\n",
                            "       13707, 13722, 13770, 13814, 13860, 13917, 13921, 13927, 13948,\n",
                            "       14044, 14099, 14157, 14164, 14247, 14250, 14255, 14321, 14326,\n",
                            "       14417, 14442, 14462, 14508, 14511, 14556, 14642, 14663, 14752,\n",
                            "       14755, 14851, 14869, 14893, 14941, 14942, 14951, 14959, 14966,\n",
                            "       14974, 14979, 14993, 15061, 15149, 15166, 15192, 15393, 15484,\n",
                            "       15500, 15548, 15568, 15573, 15694, 15726, 15730, 15753, 15754,\n",
                            "       15831, 15844, 15913, 15943, 15980, 16057, 16096, 16099, 16226,\n",
                            "       16232, 16324, 16417, 16423, 16460, 16593, 16594, 16969, 17297,\n",
                            "       17992, 18165, 18701])"
                        ]
                    },
                    "metadata": {},
                    "output_type": "display_data"
                },
                {
                    "data": {
                        "text/html": [
                            "<div>\n",
                            "<style scoped>\n",
                            "    .dataframe tbody tr th:only-of-type {\n",
                            "        vertical-align: middle;\n",
                            "    }\n",
                            "\n",
                            "    .dataframe tbody tr th {\n",
                            "        vertical-align: top;\n",
                            "    }\n",
                            "\n",
                            "    .dataframe thead th {\n",
                            "        text-align: right;\n",
                            "    }\n",
                            "</style>\n",
                            "<table border=\"1\" class=\"dataframe\">\n",
                            "  <thead>\n",
                            "    <tr style=\"text-align: right;\">\n",
                            "      <th></th>\n",
                            "      <th>inventory_id</th>\n",
                            "      <th>part_num</th>\n",
                            "      <th>color_id</th>\n",
                            "      <th>quantity</th>\n",
                            "      <th>is_spare</th>\n",
                            "    </tr>\n",
                            "  </thead>\n",
                            "  <tbody>\n",
                            "  </tbody>\n",
                            "</table>\n",
                            "</div>"
                        ],
                        "text/plain": [
                            "Empty DataFrame\n",
                            "Columns: [inventory_id, part_num, color_id, quantity, is_spare]\n",
                            "Index: []"
                        ]
                    },
                    "metadata": {},
                    "output_type": "display_data"
                }
            ],
            "source": [
                "# During EDA, I noticed some sets had a negative num parts. I want to determine if this is valid.\n",
                "# There are 3 sets with -1 num_parts. \n",
                "# The first is a wooden storage box which we can ignore since it is not a lego set. \n",
                "# Next set is actually a Duplo package of 3 sets. We can ignore since we're looking at Lego, not Duplo.\n",
                "# Lastly, the set is an exclusive to a Lego Store opening. I am choosing to ignore this item as well because it is a limited store item and not available at large.\n",
                "# I removed the sets with -1 part nums. There was no corresponding inventory parts records so the records were not providing data useful for analysis\n",
                "display(sets_df['num_parts'].unique().min())\n",
                "missing_df=sets_df[sets_df['num_parts']==-1]\n",
                "display(missing_df)\n",
                "missing_df=sets_df[sets_df['num_parts'] ==-1]\n",
                "display(missing_df)\n",
                "\n",
                "# no records found in inventory parts data\n",
                "missing_df=inv_parts_df[inv_parts_df['inventory_id'] == 11933 ] #in (2025,2474, 11933)]\n",
                "\n",
                "# drop the -1 rows\n",
                "i=sets_df[sets_df['num_parts']==-1].index\n",
                "sets_df.drop(i,inplace=True)\n",
                "\n",
                "missing_df=sets_df[sets_df['num_parts'] ==0]\n",
                "display(missing_df)\n",
                "\n",
                "# these are the inventory ids of the sets with -1 num parts\n",
                "missing_df=inv_parts_df[inv_parts_df['inventory_id'] == 2025 ] #in (2025,2474, 11933)]\n",
                "display(missing_df)\n",
                "\n"
            ]
        },
        {
            "cell_type": "markdown",
            "metadata": {
                "azdata_cell_guid": "6f5b8ee0-bab3-44bc-958a-67d1e4c0407f"
            },
            "source": [
                "## Unnecessary Data\n",
                "\n",
                "Look for the different types of unnecessary data in your dataset and address it as needed. Make sure to use code comments to illustrate your thought process."
            ]
        },
        {
            "cell_type": "code",
            "execution_count": 85,
            "metadata": {
                "azdata_cell_guid": "e788a239-2fbf-41de-9bd3-19e52e3b187c"
            },
            "outputs": [
                {
                    "name": "stdout",
                    "output_type": "stream",
                    "text": [
                        "<class 'pandas.core.frame.DataFrame'>\n",
                        "Index: 134 entries, 0 to 134\n",
                        "Data columns (total 3 columns):\n",
                        " #   Column    Non-Null Count  Dtype \n",
                        "---  ------    --------------  ----- \n",
                        " 0   id        134 non-null    int64 \n",
                        " 1   name      134 non-null    object\n",
                        " 2   is_trans  134 non-null    object\n",
                        "dtypes: int64(1), object(2)\n",
                        "memory usage: 8.3+ KB\n",
                        "<class 'pandas.core.frame.DataFrame'>\n",
                        "Index: 550756 entries, 0 to 580250\n",
                        "Data columns (total 4 columns):\n",
                        " #   Column        Non-Null Count   Dtype \n",
                        "---  ------        --------------   ----- \n",
                        " 0   inventory_id  550756 non-null  int64 \n",
                        " 1   part_num      550756 non-null  object\n",
                        " 2   color_id      550756 non-null  int64 \n",
                        " 3   quantity      550756 non-null  int64 \n",
                        "dtypes: int64(3), object(1)\n",
                        "memory usage: 21.0+ MB\n"
                    ]
                }
            ],
            "source": [
                "# rgb will not be used in data analysis\n",
                "colors_df.info()\n",
                "# drop the rgb column from colors\n",
                "colors_df.drop(inplace=True, columns='rgb',axis=1)\n",
                "colors_df.info() #verify column deleted\n",
                "\n",
                "# # check is_spare in inv_parts\n",
                "display(inv_parts_df['is_spare'].unique())\n",
                "display(inv_parts_df[inv_parts_df['is_spare']=='t'])\n",
                "\n",
                "\n",
                "# # data analysis will not need the spare parts as primary pieces will be used for analysis\n",
                "i=inv_parts_df[inv_parts_df['is_spare']=='t'].index\n",
                "display(len(i)) #verify the spare parts count\n",
                "# drop the spare parts\n",
                "inv_parts_df.drop(i,inplace=True)\n",
                "# drop the is_spare column\n",
                "inv_parts_df.drop(columns=\"is_spare\", inplace=True, axis=1)\n",
                "inv_parts_df.info() #confirm column deleted"
            ]
        },
        {
            "cell_type": "markdown",
            "metadata": {
                "azdata_cell_guid": "53e0cf94-c68a-4fa0-9849-9505a66bcce6"
            },
            "source": [
                "## Inconsistent Data\n",
                "\n",
                "Check for inconsistent data and address any that arises. As always, use code comments to illustrate your thought process."
            ]
        },
        {
            "cell_type": "code",
            "execution_count": 90,
            "metadata": {
                "azdata_cell_guid": "e9de6624-812a-43f8-8e20-93b4a49b091f"
            },
            "outputs": [
                {
                    "data": {
                        "text/html": [
                            "<div>\n",
                            "<style scoped>\n",
                            "    .dataframe tbody tr th:only-of-type {\n",
                            "        vertical-align: middle;\n",
                            "    }\n",
                            "\n",
                            "    .dataframe tbody tr th {\n",
                            "        vertical-align: top;\n",
                            "    }\n",
                            "\n",
                            "    .dataframe thead th {\n",
                            "        text-align: right;\n",
                            "    }\n",
                            "</style>\n",
                            "<table border=\"1\" class=\"dataframe\">\n",
                            "  <thead>\n",
                            "    <tr style=\"text-align: right;\">\n",
                            "      <th></th>\n",
                            "      <th>inventory_id</th>\n",
                            "      <th>part_num</th>\n",
                            "      <th>color_id</th>\n",
                            "      <th>quantity</th>\n",
                            "    </tr>\n",
                            "  </thead>\n",
                            "  <tbody>\n",
                            "    <tr>\n",
                            "      <th>2625</th>\n",
                            "      <td>80</td>\n",
                            "      <td>belvfair6</td>\n",
                            "      <td>-1</td>\n",
                            "      <td>1</td>\n",
                            "    </tr>\n",
                            "    <tr>\n",
                            "      <th>2626</th>\n",
                            "      <td>80</td>\n",
                            "      <td>belvfem26</td>\n",
                            "      <td>-1</td>\n",
                            "      <td>1</td>\n",
                            "    </tr>\n",
                            "    <tr>\n",
                            "      <th>2627</th>\n",
                            "      <td>80</td>\n",
                            "      <td>belvmale13</td>\n",
                            "      <td>-1</td>\n",
                            "      <td>1</td>\n",
                            "    </tr>\n",
                            "    <tr>\n",
                            "      <th>7832</th>\n",
                            "      <td>214</td>\n",
                            "      <td>fab6e</td>\n",
                            "      <td>-1</td>\n",
                            "      <td>1</td>\n",
                            "    </tr>\n",
                            "    <tr>\n",
                            "      <th>9330</th>\n",
                            "      <td>250</td>\n",
                            "      <td>belvfair4</td>\n",
                            "      <td>-1</td>\n",
                            "      <td>1</td>\n",
                            "    </tr>\n",
                            "    <tr>\n",
                            "      <th>...</th>\n",
                            "      <td>...</td>\n",
                            "      <td>...</td>\n",
                            "      <td>...</td>\n",
                            "      <td>...</td>\n",
                            "    </tr>\n",
                            "    <tr>\n",
                            "      <th>570439</th>\n",
                            "      <td>17425</td>\n",
                            "      <td>11305</td>\n",
                            "      <td>-1</td>\n",
                            "      <td>2</td>\n",
                            "    </tr>\n",
                            "    <tr>\n",
                            "      <th>570461</th>\n",
                            "      <td>17425</td>\n",
                            "      <td>25276</td>\n",
                            "      <td>-1</td>\n",
                            "      <td>1</td>\n",
                            "    </tr>\n",
                            "    <tr>\n",
                            "      <th>570466</th>\n",
                            "      <td>17425</td>\n",
                            "      <td>28587</td>\n",
                            "      <td>-1</td>\n",
                            "      <td>1</td>\n",
                            "    </tr>\n",
                            "    <tr>\n",
                            "      <th>570947</th>\n",
                            "      <td>17677</td>\n",
                            "      <td>18394pat0001</td>\n",
                            "      <td>-1</td>\n",
                            "      <td>2</td>\n",
                            "    </tr>\n",
                            "    <tr>\n",
                            "      <th>576853</th>\n",
                            "      <td>18440</td>\n",
                            "      <td>27328</td>\n",
                            "      <td>-1</td>\n",
                            "      <td>2</td>\n",
                            "    </tr>\n",
                            "  </tbody>\n",
                            "</table>\n",
                            "<p>126 rows × 4 columns</p>\n",
                            "</div>"
                        ],
                        "text/plain": [
                            "        inventory_id      part_num  color_id  quantity\n",
                            "2625              80     belvfair6        -1         1\n",
                            "2626              80     belvfem26        -1         1\n",
                            "2627              80    belvmale13        -1         1\n",
                            "7832             214         fab6e        -1         1\n",
                            "9330             250     belvfair4        -1         1\n",
                            "...              ...           ...       ...       ...\n",
                            "570439         17425         11305        -1         2\n",
                            "570461         17425         25276        -1         1\n",
                            "570466         17425         28587        -1         1\n",
                            "570947         17677  18394pat0001        -1         2\n",
                            "576853         18440         27328        -1         2\n",
                            "\n",
                            "[126 rows x 4 columns]"
                        ]
                    },
                    "metadata": {},
                    "output_type": "display_data"
                },
                {
                    "data": {
                        "text/html": [
                            "<div>\n",
                            "<style scoped>\n",
                            "    .dataframe tbody tr th:only-of-type {\n",
                            "        vertical-align: middle;\n",
                            "    }\n",
                            "\n",
                            "    .dataframe tbody tr th {\n",
                            "        vertical-align: top;\n",
                            "    }\n",
                            "\n",
                            "    .dataframe thead th {\n",
                            "        text-align: right;\n",
                            "    }\n",
                            "</style>\n",
                            "<table border=\"1\" class=\"dataframe\">\n",
                            "  <thead>\n",
                            "    <tr style=\"text-align: right;\">\n",
                            "      <th></th>\n",
                            "      <th>part_num</th>\n",
                            "      <th>name</th>\n",
                            "      <th>part_cat_id</th>\n",
                            "    </tr>\n",
                            "  </thead>\n",
                            "  <tbody>\n",
                            "    <tr>\n",
                            "      <th>446</th>\n",
                            "      <td>11305</td>\n",
                            "      <td>Hero Factory Weapon - Blade with Curved Tip</td>\n",
                            "      <td>41</td>\n",
                            "    </tr>\n",
                            "  </tbody>\n",
                            "</table>\n",
                            "</div>"
                        ],
                        "text/plain": [
                            "    part_num                                         name  part_cat_id\n",
                            "446    11305  Hero Factory Weapon - Blade with Curved Tip           41"
                        ]
                    },
                    "metadata": {},
                    "output_type": "display_data"
                }
            ],
            "source": [
                "# eda found -1 id numbers, planning to leave these as they are \"unknown\" color\n",
                "missing_df=inv_parts_df[inv_parts_df['color_id']==-1]\n",
                "display(missing_df)\n",
                "\n",
                "missing_df=parts_df[parts_df['part_num']=='11305']\n",
                "display(missing_df)"
            ]
        },
        {
            "cell_type": "markdown",
            "metadata": {
                "azdata_cell_guid": "dedc0bfe-17d0-40b2-914f-2ddb54f9ce0d"
            },
            "source": [
                "## Summarize Your Results\n",
                "\n",
                "Make note of your answers to the following questions.\n",
                "\n",
                "1. Did you find all four types of dirty data in your dataset? I did find all four types.\n",
                "2. Did the process of cleaning your data give you new insights into your dataset? The data is fairly straightforward and clean.\n",
                "3. Is there anything you would like to make note of when it comes to manipulating the data and making visualizations? When using the data, the joins will be important to display the necessary supporting data."
            ]
        },
        {
            "cell_type": "code",
            "execution_count": 91,
            "metadata": {},
            "outputs": [],
            "source": [
                "sets_df.to_csv(\"sets_clean.csv\")\n",
                "inv_parts_df.to_csv(\"inv_parts_clean.csv\")\n",
                "colors_df.to_csv(\"colors_clean.csv\")\n"
            ]
        }
    ],
    "metadata": {
        "kernelspec": {
            "display_name": "Python 3",
            "language": "python",
            "name": "python3"
        },
        "language_info": {
            "codemirror_mode": {
                "name": "ipython",
                "version": 3
            },
            "file_extension": ".py",
            "mimetype": "text/x-python",
            "name": "python",
            "nbconvert_exporter": "python",
            "pygments_lexer": "ipython3",
            "version": "3.12.7"
        }
    },
    "nbformat": 4,
    "nbformat_minor": 2
}
